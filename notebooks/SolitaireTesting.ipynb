{
 "cells": [
  {
   "cell_type": "code",
   "execution_count": 1,
   "metadata": {},
   "outputs": [
    {
     "data": {
      "text/plain": [
       "<module 'solitaire_core.text_renderer' from '../../../solitaire/solitaire_core/text_renderer.py'>"
      ]
     },
     "execution_count": 1,
     "metadata": {},
     "output_type": "execute_result"
    }
   ],
   "source": [
    "import os, sys\n",
    "import random\n",
    "import math\n",
    "import json\n",
    "import functools\n",
    "import itertools\n",
    "import importlib\n",
    "from collections import defaultdict\n",
    "from google.protobuf.json_format import MessageToDict\n",
    "\n",
    "import pathlib\n",
    "solitaire_path = pathlib.Path('../../../solitaire/')\n",
    "\n",
    "if solitaire_path not in sys.path:\n",
    "    sys.path.append(str(solitaire_path))\n",
    "    \n",
    "from solitaire_core.game import *\n",
    "from solitaire_core import game, text_renderer\n",
    "importlib.reload(game)\n",
    "importlib.reload(text_renderer)"
   ]
  },
  {
   "cell_type": "code",
   "execution_count": 7,
   "metadata": {},
   "outputs": [
    {
     "name": "stdout",
     "output_type": "stream",
     "text": [
      "True\n",
      "+------------------------------------------------------------------------+     Actions\n",
      "|                                                                        |\n",
      "|                                                                        |  0: TO_SS_S          CLUBS       \n",
      "|                                                                        |  1: TO_SS_S          \u001b[31mDIAMONDS\u001b[0m    \n",
      "|                                                                        |  2: TO_SS_S          \u001b[31mHEARTS\u001b[0m      \n",
      "|                                                                        |  3: TO_SS_S          SPADES      \n",
      "|                                                                        |\n",
      "|             0        1        2        3        4        5        6    |  4: SS_S_TO_BS_N     \u001b[31mDIAMONDS\u001b[0m  1 \n",
      "| +-----+           +-----+  +-----+  +-----+  +-----+                   |  5: SS_S_TO_BS_N     \u001b[31mHEARTS\u001b[0m    1 \n",
      "| | A ♣ |           | K \u001b[31m♦\u001b[0m |  | K ♣ |  | K ♠ |  | K \u001b[31m♥\u001b[0m |                   |  6: SS_S_TO_BS_N     CLUBS     2 \n",
      "| |     |           +-----+  +-----+  +-----+  +-----+                   |  7: SS_S_TO_BS_N     SPADES    2 \n",
      "| |     |           | Q ♣ |  | Q \u001b[31m♦\u001b[0m |  | Q \u001b[31m♥\u001b[0m |  | Q ♠ |                   |  8: SS_S_TO_BS_N     CLUBS     3 \n",
      "| +-----+           +-----+  +-----+  +-----+  +-----+                   |  9: SS_S_TO_BS_N     SPADES    3 \n",
      "|                   | J \u001b[31m♦\u001b[0m |  | J ♣ |  | J ♠ |  | J \u001b[31m♥\u001b[0m |                   | 10: SS_S_TO_BS_N     \u001b[31mDIAMONDS\u001b[0m  4 \n",
      "| +-----+           +-----+  +-----+  +-----+  +-----+                   | 11: SS_S_TO_BS_N     \u001b[31mHEARTS\u001b[0m    4 \n",
      "| | A \u001b[31m♦\u001b[0m |           | 10♣ |  | 10\u001b[31m♦\u001b[0m |  | 10\u001b[31m♥\u001b[0m |  | 10♠ |                   |\n",
      "| |     |           +-----+  +-----+  +-----+  +-----+                   |  n: New game\n",
      "| |     |           | 9 \u001b[31m♦\u001b[0m |  | 9 ♣ |  | 9 ♠ |  | 9 \u001b[31m♥\u001b[0m |                   |  q: Quit\n",
      "| +-----+           +-----+  +-----+  +-----+  +-----+                   |\n",
      "|                   | 8 ♣ |  | 8 \u001b[31m♦\u001b[0m |  | 8 \u001b[31m♥\u001b[0m |  | 8 ♠ |                   |\n",
      "| +-----+           +-----+  +-----+  +-----+  +-----+                   |\n",
      "| | A \u001b[31m♥\u001b[0m |           | 7 \u001b[31m♦\u001b[0m |  | 7 ♣ |  | 7 ♠ |  | 7 \u001b[31m♥\u001b[0m |                   |\n",
      "| |     |           +-----+  +-----+  +-----+  +-----+                   |\n",
      "| |     |           | 6 ♣ |  | 6 \u001b[31m♦\u001b[0m |  | 6 \u001b[31m♥\u001b[0m |  | 6 ♠ |                   |\n",
      "| +-----+           +-----+  +-----+  +-----+  +-----+                   |\n",
      "|                   | 5 \u001b[31m♦\u001b[0m |  | 5 ♣ |  | 5 ♠ |  | 5 \u001b[31m♥\u001b[0m |                   |\n",
      "| +-----+           +-----+  +-----+  +-----+  +-----+                   |\n",
      "| | A ♠ |           | 4 ♣ |  | 4 \u001b[31m♦\u001b[0m |  | 4 \u001b[31m♥\u001b[0m |  | 4 ♠ |                   |\n",
      "| |     |           +-----+  +-----+  +-----+  +-----+                   |\n",
      "| |     |           | 3 \u001b[31m♦\u001b[0m |  | 3 ♣ |  | 3 ♠ |  | 3 \u001b[31m♥\u001b[0m |                   |\n",
      "| +-----+           +-----+  +-----+  +-----+  +-----+                   |\n",
      "|                   | 2 ♣ |  | 2 \u001b[31m♦\u001b[0m |  | 2 \u001b[31m♥\u001b[0m |  | 2 ♠ |                   |\n",
      "|                   |     |  |     |  |     |  |     |                   |\n",
      "|                   |     |  |     |  |     |  |     |                   |\n",
      "|                   +-----+  +-----+  +-----+  +-----+                   |\n",
      "|                                                                        |\n",
      "|                                                                        |\n",
      "|                                                                        |\n",
      "|                                                                        |\n",
      "|                                                                        |\n",
      "|                                                                        |\n",
      "|                                                                        |\n",
      "|                                                                        |\n",
      "+------------------------------------------------------------------------+\n"
     ]
    }
   ],
   "source": [
    "states = []\n",
    "\n",
    "importlib.reload(text_renderer)\n",
    "importlib.reload(game)\n",
    "g = game.deal_game(is_random=False)\n",
    "\n",
    "new_gs = VisibleGameState()\n",
    "new_gs.CopyFrom(g.gs)\n",
    "states.append(new_gs)\n",
    "\n",
    "# g.apply_action(game.Action(type=TO_SS_S, suit=CLUBS))\n",
    "\n",
    "# for _ in range(7):\n",
    "#     g.apply_action(game.Action(type=TO_SS_S, suit=game.CLUBS))\n",
    "\n",
    "# for _ in range(3):\n",
    "#     g.apply_action(game.Action(type=game.TALON_TO_BUILD_STACK_NUM, suit=game.HEARTS, build_stack_dest=6))\n",
    "#     g.apply_action(game.Action(type=game.TALON_TO_BUILD_STACK_NUM, suit=game.CLUBS, build_stack_dest=6))\n",
    "\n",
    "# g.apply_action(game.Action(type=game.TALON_TO_BUILD_STACK_NUM, suit=game.HEARTS, build_stack_dest=6))\n",
    "\n",
    "# for r in game.CardRank.values()[1:]:\n",
    "#     g.gs.build_stacks[6] |= game.get_bitmask(game.CLUBS, r)\n",
    "# g.gs.build_stacks[6] |= game.SUIT_MASK[game.CLUBS]\n",
    "\n",
    "# for _ in range(6):\n",
    "#     g.apply_action(\n",
    "#         game.Action(type=game.TO_SUIT_STACK, suit=game.CLUBS)\n",
    "#     )\n",
    "    \n",
    "# g.apply_action(\n",
    "#     game.Action(type=game.SUIT_STACK_TO_BUILD_STACK_NUM, suit=game.CLUBS, build_stack_dest=5)\n",
    "# )\n",
    "\n",
    "# g.apply_action(game.Action(type=game.BUILD_STACK_NUM_TO_BUILD_STACK_NUM, build_stack_src=6, build_stack_dest=4))\n",
    "\n",
    "# g.apply_action(game.Action(type=game.TALON_TO_BUILD_STACK_NUM, suit=game.SPADES, build_stack_dest=5))\n",
    "# g.apply_action(game.Action(type=game.TALON_TO_BUILD_STACK_NUM, suit=game.HEARTS, build_stack_dest=5))\n",
    "# g.apply_action(game.Action(type=game.TALON_TO_BUILD_STACK_NUM, suit=game.CLUBS, build_stack_dest=5))\n",
    "\n",
    "# g.apply_action(game.Action(type=game.BUILD_STACK_NUM_TO_BUILD_STACK_NUM, build_stack_src=5, build_stack_dest=6))\n",
    "\n",
    "for r in game.CardRank.values()[1:]:\n",
    "    for s in game.Suit.values()[1:]:\n",
    "        g.apply_action(game.Action(type=game.TO_SS_S, suit=s))\n",
    "        \n",
    "        new_gs = VisibleGameState()\n",
    "        new_gs.CopyFrom(g.gs)\n",
    "        states.append(new_gs)\n",
    "        \n",
    "for r in game.CardRank.values()[1:-1]:\n",
    "    if r % 2 == 0:\n",
    "        for s, dest in [(CLUBS, 1), (DIAMONDS, 2), (HEARTS, 3), (SPADES, 4)]:\n",
    "            g.apply_action(Action(type=SS_S_TO_BS_N, suit=s, build_stack_dest=dest))\n",
    "            \n",
    "            new_gs = VisibleGameState()\n",
    "            new_gs.CopyFrom(g.gs)\n",
    "            states.append(new_gs)\n",
    "    else:\n",
    "        for s, dest in [(CLUBS, 2), (DIAMONDS, 1), (HEARTS, 4), (SPADES, 3)]:\n",
    "            g.apply_action(Action(type=SS_S_TO_BS_N, suit=s, build_stack_dest=dest))\n",
    "\n",
    "            new_gs = VisibleGameState()\n",
    "            new_gs.CopyFrom(g.gs)\n",
    "            states.append(new_gs)\n",
    "\n",
    "# print(game._try_apply_action(g.gs, g.hgs, Action(type=SS_S_TO_BS_N, suit=CLUBS, build_stack_dest=2)))\n",
    "            \n",
    "# g.apply_action(game.Action(type=game.BUILD_STACK_NUM_TO_BUILD_STACK_NUM, build_stack_src=6, build_stack_dest=0))\n",
    "\n",
    "# Modify to test stuff out:\n",
    "# g.current_state.build_stacks[0] |= 1 << 5\n",
    "# g.current_state.talon &= game.SUIT_MASK[game.HEARTS]\n",
    "print(game.is_valid_game_state(g.gs))\n",
    "\n",
    "# print(game.game_state_id_b85(g.gs), len(game.game_state_id_b85(g.gs)))\n",
    "# print(game.get_state_id())\n",
    "\n",
    "print(text_renderer.render(g.gs, g.get_valid_actions(False)))\n",
    "# print(\"\\n\".join(json.dumps(list(MessageToDict(a).values())) for a in g.get_valid_actions()))"
   ]
  },
  {
   "cell_type": "code",
   "execution_count": 15,
   "metadata": {},
   "outputs": [],
   "source": [
    "gs = g.gs"
   ]
  },
  {
   "cell_type": "code",
   "execution_count": 9,
   "metadata": {},
   "outputs": [
    {
     "name": "stdout",
     "output_type": "stream",
     "text": [
      "Copy\n",
      "248 µs ± 1.53 µs per loop (mean ± std. dev. of 7 runs, 1000 loops each)\n",
      "Merge\n",
      "202 µs ± 2.07 µs per loop (mean ± std. dev. of 7 runs, 1000 loops each)\n",
      "Manual merge\n",
      "477 µs ± 2.94 µs per loop (mean ± std. dev. of 7 runs, 1000 loops each)\n"
     ]
    }
   ],
   "source": [
    "def copy_from(other_gs):\n",
    "    new_gs = VisibleGameState()\n",
    "    new_gs.CopyFrom(other_gs)\n",
    "    return new_gs\n",
    "    \n",
    "def merge_from(other_gs):\n",
    "    new_gs = VisibleGameState()\n",
    "    new_gs.MergeFrom(other_gs)\n",
    "    return new_gs\n",
    "    \n",
    "def manual_merge_from(gs):\n",
    "    new_gs = VisibleGameState(\n",
    "        talon=gs.talon,\n",
    "        suit_stack=gs.suit_stack,\n",
    "        build_stacks=[\n",
    "            gs.build_stacks[0],\n",
    "            gs.build_stacks[1],\n",
    "            gs.build_stacks[2],\n",
    "            gs.build_stacks[3],\n",
    "            gs.build_stacks[4],\n",
    "            gs.build_stacks[5],\n",
    "            gs.build_stacks[6],\n",
    "        ],\n",
    "        build_stacks_num_hidden=[\n",
    "            gs.build_stacks_num_hidden[0],\n",
    "            gs.build_stacks_num_hidden[1],\n",
    "            gs.build_stacks_num_hidden[2],\n",
    "            gs.build_stacks_num_hidden[3],\n",
    "            gs.build_stacks_num_hidden[4],\n",
    "            gs.build_stacks_num_hidden[5],\n",
    "            gs.build_stacks_num_hidden[6],\n",
    "        ]\n",
    "    )\n",
    "    return new_gs\n",
    "\n",
    "print(\"Copy\")\n",
    "%timeit [copy_from(other) for other in states]\n",
    "print(\"Merge\")\n",
    "%timeit [merge_from(other) for other in states]\n",
    "print(\"Manual merge\")\n",
    "%timeit [manual_merge_from(other) for other in states]\n",
    "# print(\"Copy\")\n",
    "# %timeit [copy_from(other) for other in states]\n",
    "# print(\"Merge\")\n",
    "# %timeit [merge_from(other) for other in states]"
   ]
  },
  {
   "cell_type": "code",
   "execution_count": 59,
   "metadata": {},
   "outputs": [
    {
     "name": "stdout",
     "output_type": "stream",
     "text": [
      "101\n",
      "101\n",
      "101\n",
      "101\n",
      "101\n",
      "101\n"
     ]
    }
   ],
   "source": [
    "print(len({base64.b64encode(gs.SerializeToString(deterministic=True)).decode(\"utf-8\") for gs in states}))\n",
    "print(len({base64.b64encode(gs.SerializeToString(deterministic=True)).decode(\"utf-8\") for gs in [*states, *states]}))\n",
    "print(len({base64.b64encode(gs.SerializeToString(deterministic=True)).decode(\"utf-8\") for gs in itertools.chain(states, states)}))\n",
    "\n",
    "print(len({base64.b64encode(gs.SerializeToString()).decode(\"utf-8\") for gs in states}))\n",
    "print(len({base64.b64encode(gs.SerializeToString()).decode(\"utf-8\") for gs in [*states, *states]}))\n",
    "\n",
    "print(len({gs.SerializeToString() for gs in itertools.chain(states, states)}))"
   ]
  },
  {
   "cell_type": "code",
   "execution_count": 60,
   "metadata": {},
   "outputs": [
    {
     "name": "stdout",
     "output_type": "stream",
     "text": [
      "b64 deterministic\n",
      "302 µs ± 4.44 µs per loop (mean ± std. dev. of 7 runs, 1000 loops each)\n",
      "598 µs ± 3.06 µs per loop (mean ± std. dev. of 7 runs, 1000 loops each)\n",
      "b64 non deterministic\n",
      "272 µs ± 1.47 µs per loop (mean ± std. dev. of 7 runs, 1000 loops each)\n",
      "558 µs ± 13.4 µs per loop (mean ± std. dev. of 7 runs, 1000 loops each)\n",
      "just bytes\n",
      "193 µs ± 1.33 µs per loop (mean ± std. dev. of 7 runs, 10000 loops each)\n",
      "389 µs ± 3.38 µs per loop (mean ± std. dev. of 7 runs, 1000 loops each)\n",
      "md5 hex\n",
      "316 µs ± 1.62 µs per loop (mean ± std. dev. of 7 runs, 1000 loops each)\n",
      "635 µs ± 2.41 µs per loop (mean ± std. dev. of 7 runs, 1000 loops each)\n",
      "md5 int64\n",
      "345 µs ± 1.18 µs per loop (mean ± std. dev. of 7 runs, 1000 loops each)\n",
      "697 µs ± 6.6 µs per loop (mean ± std. dev. of 7 runs, 1000 loops each)\n",
      "md5 hex int64\n",
      "364 µs ± 3.58 µs per loop (mean ± std. dev. of 7 runs, 1000 loops each)\n",
      "729 µs ± 3 µs per loop (mean ± std. dev. of 7 runs, 1000 loops each)\n",
      "sha1 hex\n",
      "320 µs ± 1.46 µs per loop (mean ± std. dev. of 7 runs, 1000 loops each)\n",
      "644 µs ± 3.36 µs per loop (mean ± std. dev. of 7 runs, 1000 loops each)\n",
      "sha256 hex\n",
      "327 µs ± 1.15 µs per loop (mean ± std. dev. of 7 runs, 1000 loops each)\n",
      "661 µs ± 11.3 µs per loop (mean ± std. dev. of 7 runs, 1000 loops each)\n"
     ]
    }
   ],
   "source": [
    "print(\"b64 deterministic\")\n",
    "%timeit {base64.b64encode(gs.SerializeToString(deterministic=True)).decode(\"utf-8\") for gs in states}\n",
    "# %timeit {base64.b64encode(gs.SerializeToString(deterministic=True)).decode(\"utf-8\") for gs in [*states, *states]}\n",
    "%timeit {base64.b64encode(gs.SerializeToString(deterministic=True)).decode(\"utf-8\") for gs in itertools.chain(states, states)}\n",
    "\n",
    "print(\"b64 non deterministic\")\n",
    "%timeit {base64.b64encode(gs.SerializeToString()).decode(\"utf-8\") for gs in states}\n",
    "# %timeit {base64.b64encode(gs.SerializeToString()).decode(\"utf-8\") for gs in [*states, *states]}\n",
    "%timeit {base64.b64encode(gs.SerializeToString()).decode(\"utf-8\") for gs in itertools.chain(states, states)}\n",
    "\n",
    "print(\"just bytes\")\n",
    "%timeit {gs.SerializeToString() for gs in states}\n",
    "%timeit {gs.SerializeToString() for gs in itertools.chain(states, states)}\n",
    "\n",
    "print(\"md5 hex\")\n",
    "%timeit {hashlib.md5(g.gs.SerializeToString()).hexdigest() for gs in states}\n",
    "%timeit {hashlib.md5(g.gs.SerializeToString()).hexdigest() for gs in itertools.chain(states, states)}\n",
    "\n",
    "print(\"md5 int64\")\n",
    "%timeit {int.from_bytes(hashlib.md5(g.gs.SerializeToString()).digest()[:8], \"big\") for gs in states}\n",
    "%timeit {int.from_bytes(hashlib.md5(g.gs.SerializeToString()).digest()[:8], \"big\") for gs in itertools.chain(states, states)}\n",
    "\n",
    "print(\"md5 hex int64\")\n",
    "%timeit {int(hashlib.md5(g.gs.SerializeToString()).hexdigest()[:16], 16) for gs in states}\n",
    "%timeit {int(hashlib.md5(g.gs.SerializeToString()).hexdigest()[:16], 16) for gs in itertools.chain(states, states)}\n",
    "\n",
    "print(\"sha1 hex\")\n",
    "%timeit {hashlib.sha1(g.gs.SerializeToString()).hexdigest() for gs in states}\n",
    "%timeit {hashlib.sha1(g.gs.SerializeToString()).hexdigest() for gs in itertools.chain(states, states)}\n",
    "\n",
    "print(\"sha256 hex\")\n",
    "%timeit {hashlib.sha256(g.gs.SerializeToString()).hexdigest() for gs in states}\n",
    "%timeit {hashlib.sha256(g.gs.SerializeToString()).hexdigest() for gs in itertools.chain(states, states)}"
   ]
  },
  {
   "cell_type": "code",
   "execution_count": 34,
   "metadata": {},
   "outputs": [],
   "source": [
    "import hashlib\n",
    "\n",
    "h = hashlib.md5(g.gs.SerializeToString())\n",
    "h.hex"
   ]
  },
  {
   "cell_type": "code",
   "execution_count": 46,
   "metadata": {},
   "outputs": [
    {
     "name": "stdout",
     "output_type": "stream",
     "text": [
      "1076927608774057088\n",
      "60\n",
      "1076927608774057088\n",
      "60\n"
     ]
    }
   ],
   "source": [
    "hdig = int.from_bytes(h.digest()[:8], byteorder=\"big\")\n",
    "print(hdig)\n",
    "print(hdig.bit_length())\n",
    "\n",
    "hdig2 = int(h.hexdigest()[:16], 16)\n",
    "print(hdig2)\n",
    "print(hdig2.bit_length())"
   ]
  },
  {
   "cell_type": "code",
   "execution_count": 51,
   "metadata": {},
   "outputs": [
    {
     "data": {
      "text/plain": [
       "77"
      ]
     },
     "execution_count": 51,
     "metadata": {},
     "output_type": "execute_result"
    }
   ],
   "source": [
    "\n",
    "len({gs.SerializeToString() for gs in states})"
   ]
  },
  {
   "cell_type": "code",
   "execution_count": 13,
   "metadata": {},
   "outputs": [
    {
     "data": {
      "text/plain": [
       "475"
      ]
     },
     "execution_count": 13,
     "metadata": {},
     "output_type": "execute_result"
    }
   ],
   "source": [
    "from solitaire_ai import vectorization\n",
    "importlib.reload(vectorization)\n",
    "\n",
    "len(vectorization.game_state_to_array(deal_game(is_random=False).gs))"
   ]
  },
  {
   "cell_type": "code",
   "execution_count": 15,
   "metadata": {},
   "outputs": [
    {
     "data": {
      "text/plain": [
       "['0 1',\n",
       " '0 2',\n",
       " '0 3',\n",
       " '0 4',\n",
       " '0 5',\n",
       " '0 6',\n",
       " '1 0',\n",
       " '1 2',\n",
       " '1 3',\n",
       " '1 4',\n",
       " '1 5',\n",
       " '1 6',\n",
       " '2 0',\n",
       " '2 1',\n",
       " '2 3',\n",
       " '2 4',\n",
       " '2 5',\n",
       " '2 6',\n",
       " '3 0',\n",
       " '3 1',\n",
       " '3 2',\n",
       " '3 4',\n",
       " '3 5',\n",
       " '3 6',\n",
       " '4 0',\n",
       " '4 1',\n",
       " '4 2',\n",
       " '4 3',\n",
       " '4 5',\n",
       " '4 6',\n",
       " '5 0',\n",
       " '5 1',\n",
       " '5 2',\n",
       " '5 3',\n",
       " '5 4',\n",
       " '5 6',\n",
       " '6 0',\n",
       " '6 1',\n",
       " '6 2',\n",
       " '6 3',\n",
       " '6 4',\n",
       " '6 5']"
      ]
     },
     "execution_count": 15,
     "metadata": {},
     "output_type": "execute_result"
    }
   ],
   "source": [
    "[f\"{i1} {i2}\" for i1 in range(7) for i2 in range(7) if i1 != i2]"
   ]
  },
  {
   "cell_type": "code",
   "execution_count": null,
   "metadata": {},
   "outputs": [],
   "source": []
  }
 ],
 "metadata": {
  "kernelspec": {
   "display_name": "Python 3",
   "language": "python",
   "name": "python3"
  },
  "language_info": {
   "codemirror_mode": {
    "name": "ipython",
    "version": 3
   },
   "file_extension": ".py",
   "mimetype": "text/x-python",
   "name": "python",
   "nbconvert_exporter": "python",
   "pygments_lexer": "ipython3",
   "version": "3.7.3"
  }
 },
 "nbformat": 4,
 "nbformat_minor": 4
}
