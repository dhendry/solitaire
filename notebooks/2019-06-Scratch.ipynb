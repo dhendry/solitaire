{
 "cells": [
  {
   "cell_type": "code",
   "execution_count": 1,
   "metadata": {
    "pycharm": {
     "is_executing": false
    }
   },
   "outputs": [],
   "source": [
    "import sys\n",
    "import pathlib\n",
    "solitaire_path = pathlib.Path('../')\n",
    "\n",
    "if solitaire_path not in sys.path:\n",
    "    sys.path.append(str(solitaire_path))\n",
    "\n",
    "import os, random, math, json, functools, itertools, base64, importlib\n",
    "# import tqdm\n",
    "\n",
    "from collections import defaultdict\n",
    "from datetime import datetime, timedelta, date\n",
    "from google.protobuf.json_format import MessageToDict\n",
    "import numpy as np\n",
    "import pandas as pd\n",
    "    \n",
    "from sklearn.model_selection import train_test_split\n",
    "    \n",
    "from solitaire_core.game import *\n",
    "from solitaire_core import game, text_renderer\n",
    "from solitaire_ai import vectorization"
   ]
  },
  {
   "cell_type": "code",
   "execution_count": 2,
   "metadata": {
    "pycharm": {
     "is_executing": false
    }
   },
   "outputs": [
    {
     "name": "stdout",
     "text": [
      "236\n",
      "33699\nDone\n"
     ],
     "output_type": "stream"
    }
   ],
   "source": [
    "grs = []\n",
    "with open(\"../2019-05-30-08-28-35-win-game-records.b64\") as f:\n",
    "    line = f.readline()\n",
    "    while line:\n",
    "        gr = GameRecord()\n",
    "        gr.MergeFromString(base64.b64decode(line))\n",
    "        grs.append(gr)\n",
    "        \n",
    "        line = f.readline()\n",
    "\n",
    "print(len(grs))\n",
    "        \n",
    "game_states = []\n",
    "actions = []\n",
    "for gr in grs:\n",
    "    gs = VisibleGameState()\n",
    "    hgs = HiddenGameState()\n",
    "\n",
    "    gs.MergeFrom(gr.initial_state)\n",
    "    hgs.MergeFrom(gr.initial_hidden_state)\n",
    "\n",
    "    for a in gr.actions:\n",
    "        game_states.append(vectorization.game_state_to_array(gs))\n",
    "        actions.append(vectorization.action_to_onehot(a))\n",
    "\n",
    "        res = game._try_apply_action(gs, hgs, a)\n",
    "        assert is_valid_game_state(gs)\n",
    "\n",
    "        if not res:\n",
    "            raise Exception()\n",
    "\n",
    "assert len(game_states) == len(actions)\n",
    "\n",
    "print(len(game_states))\n",
    "print(\"Done\")"
   ]
  },
  {
   "cell_type": "code",
   "execution_count": 7,
   "metadata": {},
   "outputs": [],
   "source": [
    "# scale the raw pixel intensities to the range [0, 1]\n",
    "data = np.array(game_states, dtype=\"float\")\n",
    "labels = np.array(actions)\n",
    "\n",
    "(train_x, test_x, train_y, test_y) = train_test_split(data, labels, test_size=0.25)"
   ]
  },
  {
   "cell_type": "code",
   "execution_count": null,
   "metadata": {},
   "outputs": [],
   "source": []
  }
 ],
 "metadata": {
  "kernelspec": {
   "display_name": "Python 3",
   "language": "python",
   "name": "python3"
  },
  "language_info": {
   "codemirror_mode": {
    "name": "ipython",
    "version": 3
   },
   "file_extension": ".py",
   "mimetype": "text/x-python",
   "name": "python",
   "nbconvert_exporter": "python",
   "pygments_lexer": "ipython3",
   "version": "3.7.3"
  }
 },
 "nbformat": 4,
 "nbformat_minor": 4
}