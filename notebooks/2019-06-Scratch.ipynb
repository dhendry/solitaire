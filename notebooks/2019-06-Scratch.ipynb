{
 "cells": [
  {
   "cell_type": "code",
   "execution_count": 1,
   "metadata": {
    "pycharm": {
     "is_executing": false
    }
   },
   "outputs": [
    {
     "name": "stderr",
     "output_type": "stream",
     "text": [
      "Using TensorFlow backend.\n"
     ]
    }
   ],
   "source": [
    "import sys\n",
    "import pathlib\n",
    "solitaire_path = pathlib.Path('../')\n",
    "\n",
    "if solitaire_path not in sys.path:\n",
    "    sys.path.append(str(solitaire_path))\n",
    "\n",
    "import os, random, math, json, functools, itertools, base64, importlib, gzip\n",
    "from tqdm import tqdm\n",
    "\n",
    "from collections import defaultdict\n",
    "from datetime import datetime, timedelta, date\n",
    "from google.protobuf.json_format import MessageToDict\n",
    "import numpy as np\n",
    "import pandas as pd\n",
    "    \n",
    "from sklearn.model_selection import train_test_split\n",
    "from sklearn.metrics import classification_report\n",
    "from keras.models import Sequential\n",
    "from keras.layers.core import Dense, Dropout\n",
    "from keras.optimizers import SGD\n",
    "\n",
    "\n",
    "import matplotlib.pyplot as plt\n",
    "    \n",
    "from solitaire_core.game import *\n",
    "from solitaire_core import game, text_renderer\n",
    "from solitaire_ai import vectorization\n",
    "\n",
    "from auto_play import StatTracker, SingleGamePlayLoop\n",
    "from auto_play import play_move as play_move_rand\n"
   ]
  },
  {
   "cell_type": "markdown",
   "metadata": {},
   "source": [
    "---\n",
    "# Baseline"
   ]
  },
  {
   "cell_type": "code",
   "execution_count": null,
   "metadata": {},
   "outputs": [],
   "source": [
    "# from auto_play import StatTracker\n",
    "# from auto_play import play_move as play_move_rand\n",
    "\n",
    "# TO_EFFECTIVE_WIN = True\n",
    "\n",
    "# stats = StatTracker(update_interval=5)\n",
    "# g = deal_game()\n",
    "\n",
    "# won_game_records = []\n",
    "\n",
    "# while stats.games_played < 1000:\n",
    "#     if TO_EFFECTIVE_WIN and g.won_effectively or g.won:\n",
    "#         stats.mark_won(g.game_record)\n",
    "#         won_game_records.append(g.game_record)\n",
    "#         g = deal_game()\n",
    "#         continue\n",
    "\n",
    "#     if not play_move_rand(g):\n",
    "#         stats.mark_lost(g.game_record)\n",
    "#         g = deal_game()\n",
    "#         continue\n",
    "\n",
    "#     assert is_valid_game_state(g.gs), g.get_game_state_id()\n",
    "\n",
    "#     stats.mark_move()\n",
    "    \n",
    "# stats.print_stats()\n",
    "# print(\"Done\")"
   ]
  },
  {
   "cell_type": "markdown",
   "metadata": {},
   "source": [
    "---\n",
    "# Training"
   ]
  },
  {
   "cell_type": "code",
   "execution_count": 3,
   "metadata": {},
   "outputs": [
    {
     "name": "stdout",
     "output_type": "stream",
     "text": [
      "2450\n"
     ]
    }
   ],
   "source": [
    "# Optionally load from backup file instead of playing to a baseline\n",
    "\n",
    "won_game_records = []\n",
    "with gzip.open(\"../2019-05-31-10-07-25-win-game-records.b64.gz\") as f:\n",
    "    line = f.readline()\n",
    "    while line:\n",
    "        gr = GameRecord()\n",
    "        gr.MergeFromString(base64.b64decode(line))\n",
    "        won_game_records.append(gr)\n",
    "        \n",
    "        line = f.readline()\n",
    "\n",
    "print(len(won_game_records))"
   ]
  },
  {
   "cell_type": "code",
   "execution_count": null,
   "metadata": {
    "pycharm": {
     "is_executing": false
    }
   },
   "outputs": [],
   "source": [
    "game_state_vectors = []\n",
    "action_vectors = []\n",
    "for gr in tqdm(won_game_records):\n",
    "    gs = VisibleGameState()\n",
    "    hgs = HiddenGameState()\n",
    "\n",
    "    gs.MergeFrom(gr.initial_state)\n",
    "    hgs.MergeFrom(gr.initial_hidden_state)\n",
    "\n",
    "    # Replay all the actions:\n",
    "    for a in gr.actions:\n",
    "        game_state_vectors.append(vectorization.game_state_to_array(gs))\n",
    "        action_vectors.append(vectorization.action_to_onehot(a))\n",
    "\n",
    "        res = game._try_apply_action(gs, hgs, a)\n",
    "        assert is_valid_game_state(gs)\n",
    "\n",
    "        if not res:\n",
    "            raise Exception()\n",
    "\n",
    "assert len(game_state_vectors) == len(action_vectors)\n",
    "assert all(len(gs) == len(game_state_vectors[0]) for gs in game_state_vectors)\n",
    "assert all(len(a) == len(action_vectors[0]) for a in action_vectors)\n",
    "\n",
    "print(len(game_state_vectors))\n",
    "print(\"Done\")"
   ]
  },
  {
   "cell_type": "code",
   "execution_count": 4,
   "metadata": {},
   "outputs": [],
   "source": [
    "# This and stuff below kind of taken from https://www.pyimagesearch.com/2018/09/10/keras-tutorial-how-to-get-started-with-keras-deep-learning-and-python/\n",
    "\n",
    "data = np.array(game_state_vectors, dtype=\"float\")\n",
    "labels = np.array(action_vectors)\n",
    "\n",
    "(train_x, test_x, train_y, test_y) = train_test_split(data, labels, test_size=0.25)"
   ]
  },
  {
   "cell_type": "code",
   "execution_count": 6,
   "metadata": {},
   "outputs": [
    {
     "name": "stdout",
     "output_type": "stream",
     "text": [
      "22011/22011 [==============================] - 2s 108us/step - loss: 3.0821 - acc: 0.2614 - val_loss: 3.7546 - val_acc: 0.1427\n",
      "Epoch 46/50\n",
      "22011/22011 [==============================] - 2s 105us/step - loss: 3.0546 - acc: 0.2674 - val_loss: 3.7510 - val_acc: 0.1442\n",
      "Epoch 47/50\n",
      "22011/22011 [==============================] - 2s 102us/step - loss: 3.0357 - acc: 0.2717 - val_loss: 3.7608 - val_acc: 0.1405\n",
      "Epoch 48/50\n",
      "22011/22011 [==============================] - 2s 102us/step - loss: 3.0126 - acc: 0.2744 - val_loss: 3.7634 - val_acc: 0.1443\n",
      "Epoch 49/50\n",
      "22011/22011 [==============================] - 2s 96us/step - loss: 2.9827 - acc: 0.2816 - val_loss: 3.7558 - val_acc: 0.1451\n",
      "Epoch 50/50\n",
      "22011/22011 [==============================] - 2s 98us/step - loss: 2.9688 - acc: 0.2812 - val_loss: 3.7613 - val_acc: 0.1475\n",
      "Done\n"
     ]
    }
   ],
   "source": [
    "model = Sequential()\n",
    "model.add(Dense(512, input_shape=(len(game_state_vectors[0]),), activation=\"relu\"))\n",
    "# model.add(Dropout(0.25))\n",
    "model.add(Dense(128, activation=\"relu\"))\n",
    "model.add(Dropout(0.1))\n",
    "# model.add(Dense(128, activation=\"relu\"))\n",
    "# model.add(Dropout(0.1))\n",
    "model.add(Dense(len(action_vectors[0]), activation=\"softmax\"))\n",
    "\n",
    "# initialize our initial learning rate and # of epochs to train for\n",
    "INIT_LR = 0.01\n",
    "EPOCHS = 50\n",
    "\n",
    "print(\"Train training network...\")\n",
    "opt = SGD(lr=INIT_LR)\n",
    "model.compile(loss=\"categorical_crossentropy\", optimizer=opt, metrics=[\"accuracy\"])\n",
    "\n",
    "# train the neural network\n",
    "H = model.fit(train_x, train_y, validation_data=(test_x, test_y), epochs=EPOCHS, batch_size=32)\n",
    "\n",
    "print(\"Done\")"
   ]
  },
  {
   "cell_type": "code",
   "execution_count": null,
   "metadata": {},
   "outputs": [],
   "source": [
    "model = Sequential()\n",
    "model.add(Dense(128, input_shape=(len(game_state_vectors[0]),), activation=\"relu\"))\n",
    "model.add(Dense(256, activation=\"relu\"))\n",
    "model.add(Dropout(0.1))\n",
    "model.add(Dense(len(action_vectors[0]), activation=\"softmax\"))\n",
    "\n",
    "# initialize our initial learning rate and # of epochs to train for\n",
    "INIT_LR = 0.01\n",
    "EPOCHS = 50\n",
    "\n",
    "print(\"Train training network...\")\n",
    "opt = SGD(lr=INIT_LR)\n",
    "model.compile(loss=\"categorical_crossentropy\", optimizer=opt, metrics=[\"accuracy\"])\n",
    "\n",
    "# train the neural network\n",
    "H = model.fit(train_x, train_y, validation_data=(test_x, test_y), epochs=EPOCHS, batch_size=32)\n",
    "\n",
    "print(\"Done\")"
   ]
  },
  {
   "cell_type": "code",
   "execution_count": 22,
   "metadata": {},
   "outputs": [
    {
     "data": {
      "image/png": "[encoded data removed]",
      "text/plain": [
       "<Figure size 432x288 with 1 Axes>"
      ]
     },
     "metadata": {},
     "output_type": "display_data"
    }
   ],
   "source": [
    "# evaluate the network\n",
    "# print(\"[INFO] evaluating network...\")\n",
    "# predictions = model.predict(test_x, batch_size=32)\n",
    "# print(classification_report(test_y.argmax(axis=1), predictions.argmax(axis=1)))\n",
    " \n",
    "# plot the training loss and accuracy\n",
    "N = np.arange(0, EPOCHS)\n",
    "plt.style.use(\"ggplot\")\n",
    "plt.figure()\n",
    "plt.plot(N, H.history[\"loss\"], label=\"train_loss\")\n",
    "plt.plot(N, H.history[\"val_loss\"], label=\"val_loss\")\n",
    "plt.plot(N, H.history[\"acc\"], label=\"train_acc\")\n",
    "plt.plot(N, H.history[\"val_acc\"], label=\"val_acc\")\n",
    "plt.title(\"Training Loss and Accuracy (Simple NN)\")\n",
    "plt.xlabel(\"Epoch #\")\n",
    "plt.ylabel(\"Loss/Accuracy\")\n",
    "plt.legend()\n",
    "plt.show()"
   ]
  },
  {
   "cell_type": "markdown",
   "metadata": {},
   "source": [
    "---\n",
    "# Now play\n"
   ]
  },
  {
   "cell_type": "code",
   "execution_count": 10,
   "metadata": {},
   "outputs": [
    {
     "name": "stdout",
     "output_type": "stream",
     "text": [
      "Name:                \tPlayed:     8  \tWon:    2  \tLost:    6  \tTotal moves:   1902  \tmoves/s: 380.38  \t Win rate:  0.25  \t\n",
      "Name:                \tPlayed:    23  \tWon:    5  \tLost:   18  \tTotal moves:   3868  \tmoves/s: 393.04  \t Win rate:  0.22  \t\n",
      "Name:                \tPlayed:    34  \tWon:    9  \tLost:   25  \tTotal moves:   5780  \tmoves/s: 382.29  \t Win rate:  0.26  \t\n",
      "Name:                \tPlayed:    44  \tWon:   12  \tLost:   32  \tTotal moves:   7656  \tmoves/s: 375.04  \t Win rate:  0.27  \t\n",
      "Name:                \tPlayed:    58  \tWon:   14  \tLost:   44  \tTotal moves:   9592  \tmoves/s: 387.17  \t Win rate:  0.24  \t\n",
      "Name:                \tPlayed:    66  \tWon:   19  \tLost:   47  \tTotal moves:  11490  \tmoves/s: 379.51  \t Win rate:  0.29  \t\n",
      "Name:                \tPlayed:    75  \tWon:   21  \tLost:   54  \tTotal moves:  13399  \tmoves/s: 381.71  \t Win rate:  0.28  \t\n",
      "Name:                \tPlayed:    82  \tWon:   23  \tLost:   59  \tTotal moves:  15280  \tmoves/s: 376.02  \t Win rate:  0.28  \t\n",
      "Name:                \tPlayed:    95  \tWon:   26  \tLost:   69  \tTotal moves:  17221  \tmoves/s:  388.1  \t Win rate:  0.27  \t\n",
      "Name:                \tPlayed:   101  \tWon:   28  \tLost:   73  \tTotal moves:  19071  \tmoves/s: 369.89  \t Win rate:  0.28  \t\n",
      "Name:                \tPlayed:   112  \tWon:   32  \tLost:   80  \tTotal moves:  20543  \tmoves/s: 294.29  \t Win rate:  0.29  \t\n",
      "Name:                \tPlayed:   116  \tWon:   33  \tLost:   83  \tTotal moves:  22048  \tmoves/s: 300.91  \t Win rate:  0.28  \t\n",
      "Name:                \tPlayed:   127  \tWon:   33  \tLost:   94  \tTotal moves:  23924  \tmoves/s: 375.17  \t Win rate:  0.26  \t\n",
      "Name:                \tPlayed:   141  \tWon:   37  \tLost:  104  \tTotal moves:  25683  \tmoves/s: 351.72  \t Win rate:  0.26  \t\n",
      "Name:                \tPlayed:   152  \tWon:   40  \tLost:  112  \tTotal moves:  27466  \tmoves/s: 356.42  \t Win rate:  0.26  \t\n",
      "Name:                \tPlayed:   165  \tWon:   43  \tLost:  122  \tTotal moves:  29281  \tmoves/s: 362.84  \t Win rate:  0.26  \t\n",
      "Name:                \tPlayed:   178  \tWon:   46  \tLost:  132  \tTotal moves:  31188  \tmoves/s: 381.38  \t Win rate:  0.26  \t\n",
      "Name:                \tPlayed:   194  \tWon:   49  \tLost:  145  \tTotal moves:  33085  \tmoves/s: 379.34  \t Win rate:  0.25  \t\n",
      "Name:                \tPlayed:   200  \tWon:   52  \tLost:  148  \tTotal moves:  33912  \tmoves/s: 373.32  \t Win rate:  0.26  \t\n",
      "Done\n"
     ]
    }
   ],
   "source": [
    "stats = StatTracker(update_interval=5)\n",
    "g = deal_game()\n",
    "\n",
    "TO_EFFECTIVE_WIN = True\n",
    "won_game_records_w_model = []\n",
    "\n",
    "while stats.games_played < 200:\n",
    "    if TO_EFFECTIVE_WIN and g.won_effectively or g.won:\n",
    "        stats.mark_won()\n",
    "        won_game_records_w_model.append(g.game_record)\n",
    "        g = deal_game()\n",
    "        continue\n",
    "    \n",
    "    valid_actions = g.get_valid_actions()\n",
    "    if not valid_actions:\n",
    "        stats.mark_lost()\n",
    "        g = deal_game()\n",
    "        continue\n",
    "    \n",
    "    prediction = model.predict(np.array([vectorization.game_state_to_array(g.gs)]))\n",
    "    action = vectorization.onehot_to_action(prediction[0], valid_actions)\n",
    "    \n",
    "    g.apply_action(action)\n",
    "\n",
    "    assert is_valid_game_state(g.gs), g.get_game_state_id()\n",
    "\n",
    "    stats.mark_move()\n",
    "    \n",
    "stats.print_stats()\n",
    "print(\"Done\")"
   ]
  },
  {
   "cell_type": "code",
   "execution_count": null,
   "metadata": {},
   "outputs": [],
   "source": []
  }
 ],
 "metadata": {
  "kernelspec": {
   "display_name": "Python 3",
   "language": "python",
   "name": "python3"
  },
  "language_info": {
   "codemirror_mode": {
    "name": "ipython",
    "version": 3
   },
   "file_extension": ".py",
   "mimetype": "text/x-python",
   "name": "python",
   "nbconvert_exporter": "python",
   "pygments_lexer": "ipython3",
   "version": "3.7.3"
  }
 },
 "nbformat": 4,
 "nbformat_minor": 4
}
