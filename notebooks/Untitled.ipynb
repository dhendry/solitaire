{
 "cells": [
  {
   "cell_type": "code",
   "execution_count": 16,
   "metadata": {},
   "outputs": [],
   "source": [
    "import sys\n",
    "import pathlib\n",
    "solitaire_path = pathlib.Path('../')\n",
    "\n",
    "if solitaire_path not in sys.path:\n",
    "    sys.path.append(str(solitaire_path))\n",
    "\n",
    "import os, random, math, json, functools, itertools, base64\n",
    "import importlib\n",
    "\n",
    "from collections import defaultdict\n",
    "from datetime import datetime, timedelta, date\n",
    "from google.protobuf.json_format import MessageToDict\n",
    "import numpy as np\n",
    "import pandas as pd\n",
    "    \n",
    "from solitaire_core.game import *\n",
    "from solitaire_core import game, text_renderer\n",
    "from solitaire_ai import vectorization"
   ]
  },
  {
   "cell_type": "code",
   "execution_count": 14,
   "metadata": {},
   "outputs": [
    {
     "name": "stdout",
     "output_type": "stream",
     "text": [
      "321\n"
     ]
    }
   ],
   "source": [
    "grs = []\n",
    "game_states = []\n",
    "actions = []\n",
    "\n",
    "with open(\"../19-05-29-20-49-10-win-game-records.b64\") as f:\n",
    "    line = f.readline()\n",
    "    while line:\n",
    "        gr = GameRecord().MergeFromString(base64.b64decode(line))\n",
    "        grs.append(gr)\n",
    "        \n",
    "        for a in gr.actions:\n",
    "            game_states.append(vectorization.game_state_to_array())\n",
    "        \n",
    "        line = f.readline()\n",
    "        \n",
    "print(len(lines))"
   ]
  },
  {
   "cell_type": "code",
   "execution_count": null,
   "metadata": {},
   "outputs": [],
   "source": []
  }
 ],
 "metadata": {
  "kernelspec": {
   "display_name": "Python 3",
   "language": "python",
   "name": "python3"
  },
  "language_info": {
   "codemirror_mode": {
    "name": "ipython",
    "version": 3
   },
   "file_extension": ".py",
   "mimetype": "text/x-python",
   "name": "python",
   "nbconvert_exporter": "python",
   "pygments_lexer": "ipython3",
   "version": "3.7.3"
  }
 },
 "nbformat": 4,
 "nbformat_minor": 4
}
